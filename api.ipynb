{
 "cells": [
  {
   "cell_type": "markdown",
   "id": "3b3cb0f0",
   "metadata": {},
   "source": [
    "# API Documentation \n",
    "For more information on the actual content these functions return see https://docs.ftx.com/#rest-api"
   ]
  },
  {
   "cell_type": "markdown",
   "id": "21dfea81",
   "metadata": {},
   "source": [
    "## self.get_current_price(_market=None_)\n",
    "Parameters:\n",
    " - __market__: you can set which market you want the value from. (At the moment it is not implemented)\n",
    "\n",
    "Returns the current market price as float.\n",
    " - __Test Mode__: this is the average of the last test data candle ```open``` and ```close``` values\n",
    " - __Validation/Production Mode__: market price of queried from the online platform   "
   ]
  },
  {
   "cell_type": "markdown",
   "id": "bc205789",
   "metadata": {},
   "source": [
    "## self.get_balances(_market=None_)\n",
    "Parameters:\n",
    " - __market__: you can set which market you want the value from. (At the moment it is not implemented)\n",
    " \n",
    "Returns all wallets of the main account as a dictionary.\n",
    " - __Test/Validation Mode__: backend constructs simulated wallets locally (only BTC, USD at the moment)\n",
    " - __Production Mode__: wallets queried from the online platform\n",
    " \n",
    "Example return:<br>\n",
    "```\n",
    "{\n",
    "    \"USD\": {\n",
    "      \"coin\": \"USD\",\n",
    "      \"free\": 2320.2,\n",
    "      \"spotBorrow\": 0.0,\n",
    "      \"total\": 2340.2,\n",
    "      \"usdValue\": 2340.2,\n",
    "      \"availableWithoutBorrow\": 2320.2\n",
    "    }\n",
    "}\n",
    "```"
   ]
  },
  {
   "cell_type": "markdown",
   "id": "86400338",
   "metadata": {},
   "source": [
    "## self.get_account_info(_market=None_)\n",
    "Parameters:\n",
    " - __market__: you can set which market you want the value from. (At the moment it is not implemented)\n",
    " \n",
    "Returns the main account info as a pandas DataFrame.\n",
    " - __Test/Validation Mode__: backend constructs simulated account locally\n",
    " - __Production Mode__: account queried from the online platform \n",
    "\n",
    "Example return:<br>\n",
    "```\n",
    "{\n",
    "    \"backstopProvider\": true,\n",
    "    \"collateral\": 3568181.02691129,\n",
    "    \"freeCollateral\": 1786071.456884368,\n",
    "    \"initialMarginRequirement\": 0.12222384240257728,\n",
    "    \"leverage\": 10,\n",
    "    \"liquidating\": false,\n",
    "    \"maintenanceMarginRequirement\": 0.07177992558058484,\n",
    "    \"makerFee\": 0.0002,\n",
    "    \"marginFraction\": 0.5588433331419503,\n",
    "    \"openMarginFraction\": 0.2447194090423075,\n",
    "    \"takerFee\": 0.0005,\n",
    "    \"totalAccountValue\": 3568180.98341129,\n",
    "    \"totalPositionSize\": 6384939.6992,\n",
    "    \"username\": \"user@domain.com\",\n",
    "    \"positions\": [\n",
    "      {\n",
    "        \"cost\": -31.7906,\n",
    "        \"entryPrice\": 138.22,\n",
    "        \"future\": \"ETH-PERP\",\n",
    "        \"initialMarginRequirement\": 0.1,\n",
    "        \"longOrderSize\": 1744.55,\n",
    "        \"maintenanceMarginRequirement\": 0.04,\n",
    "        \"netSize\": -0.23,\n",
    "        \"openSize\": 1744.32,\n",
    "        \"realizedPnl\": 3.39441714,\n",
    "        \"shortOrderSize\": 1732.09,\n",
    "        \"side\": \"sell\",\n",
    "        \"size\": 0.23,\n",
    "        \"unrealizedPnl\": 0\n",
    "      }\n",
    "    ]\n",
    "}\n",
    "```"
   ]
  },
  {
   "cell_type": "markdown",
   "id": "8da986f7",
   "metadata": {},
   "source": [
    "## self.get_start_timestamp()\n",
    "\n",
    "Returns the start time of the run in py ```datetime```."
   ]
  },
  {
   "cell_type": "markdown",
   "id": "3d8ab035",
   "metadata": {},
   "source": [
    "## self.set_start_balance(amount)\n",
    "Parameters:\n",
    " - __amount__: The amount to set as start balance. (Sets the USD balance only at the moment)\n",
    " \n",
    "Sets the initial balance of the USD wallet\n",
    " - __Test/Validation Mode__: Sets the simulated wallet balance value\n",
    " - __Production Mode__: Not used\n",
    " "
   ]
  },
  {
   "cell_type": "code",
   "execution_count": null,
   "id": "bfe734a3",
   "metadata": {},
   "outputs": [],
   "source": []
  }
 ],
 "metadata": {
  "kernelspec": {
   "display_name": "Python 3 (ipykernel)",
   "language": "python",
   "name": "python3"
  },
  "language_info": {
   "codemirror_mode": {
    "name": "ipython",
    "version": 3
   },
   "file_extension": ".py",
   "mimetype": "text/x-python",
   "name": "python",
   "nbconvert_exporter": "python",
   "pygments_lexer": "ipython3",
   "version": "3.8.10"
  }
 },
 "nbformat": 4,
 "nbformat_minor": 5
}
