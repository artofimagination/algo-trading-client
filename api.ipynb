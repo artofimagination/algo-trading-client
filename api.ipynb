{
 "cells": [
  {
   "cell_type": "markdown",
   "id": "3b3cb0f0",
   "metadata": {},
   "source": [
    "# API Documentation \n",
    "For more information on the actual content these functions return see https://docs.ftx.com/#rest-api\n",
    "\n",
    "All the below functions are part of the bot by default."
   ]
  },
  {
   "cell_type": "markdown",
   "id": "21dfea81",
   "metadata": {},
   "source": [
    "## get_current_price(_market=None_)\n",
    "Parameters:\n",
    " - __market__: you can set which market you want the value from. (At the moment it is not implemented)\n",
    "\n",
    "Returns the current market price as float.\n",
    " - __Test Mode__: this is the average of the last test data candle ```open``` and ```close``` values\n",
    " - __Validation/Production Mode__: market price of queried from the online platform   "
   ]
  },
  {
   "cell_type": "markdown",
   "id": "bc205789",
   "metadata": {},
   "source": [
    "## get_balances(_market=None_)\n",
    "Parameters:\n",
    " - __market__: you can set which market you want the value from. (At the moment it is not implemented)\n",
    " \n",
    "Returns all wallets of the main account as a dictionary.\n",
    " - __Test/Validation Mode__: backend constructs simulated wallets locally (only BTC, USD at the moment)\n",
    " - __Production Mode__: wallets queried from the online platform\n",
    " \n",
    "Example return:<br>\n",
    "```\n",
    "{\n",
    "    \"USD\": {\n",
    "      \"coin\": \"USD\",\n",
    "      \"free\": 2320.2,\n",
    "      \"spotBorrow\": 0.0,\n",
    "      \"total\": 2340.2,\n",
    "      \"usdValue\": 2340.2,\n",
    "      \"availableWithoutBorrow\": 2320.2\n",
    "    }\n",
    "}\n",
    "```"
   ]
  },
  {
   "cell_type": "markdown",
   "id": "86400338",
   "metadata": {},
   "source": [
    "## get_account_info(_market=None_)\n",
    "Parameters:\n",
    " - __market__: you can set which market you want the value from. (At the moment it is not implemented)\n",
    " \n",
    "Returns the main account info as a pandas DataFrame.\n",
    " - __Test/Validation Mode__: backend constructs simulated account locally\n",
    " - __Production Mode__: account queried from the online platform \n",
    "\n",
    "Example return:<br>\n",
    "```\n",
    "{\n",
    "    \"backstopProvider\": true,\n",
    "    \"collateral\": 3568181.02691129,\n",
    "    \"freeCollateral\": 1786071.456884368,\n",
    "    \"initialMarginRequirement\": 0.12222384240257728,\n",
    "    \"leverage\": 10,\n",
    "    \"liquidating\": false,\n",
    "    \"maintenanceMarginRequirement\": 0.07177992558058484,\n",
    "    \"makerFee\": 0.0002,\n",
    "    \"marginFraction\": 0.5588433331419503,\n",
    "    \"openMarginFraction\": 0.2447194090423075,\n",
    "    \"takerFee\": 0.0005,\n",
    "    \"totalAccountValue\": 3568180.98341129,\n",
    "    \"totalPositionSize\": 6384939.6992,\n",
    "    \"username\": \"user@domain.com\",\n",
    "    \"positions\": [\n",
    "      {\n",
    "        \"cost\": -31.7906,\n",
    "        \"entryPrice\": 138.22,\n",
    "        \"future\": \"ETH-PERP\",\n",
    "        \"initialMarginRequirement\": 0.1,\n",
    "        \"longOrderSize\": 1744.55,\n",
    "        \"maintenanceMarginRequirement\": 0.04,\n",
    "        \"netSize\": -0.23,\n",
    "        \"openSize\": 1744.32,\n",
    "        \"realizedPnl\": 3.39441714,\n",
    "        \"shortOrderSize\": 1732.09,\n",
    "        \"side\": \"sell\",\n",
    "        \"size\": 0.23,\n",
    "        \"unrealizedPnl\": 0\n",
    "      }\n",
    "    ]\n",
    "}\n",
    "```"
   ]
  },
  {
   "cell_type": "markdown",
   "id": "8da986f7",
   "metadata": {},
   "source": [
    "## get_start_timestamp()\n",
    "\n",
    "Returns the start time of the run in py ```datetime```."
   ]
  },
  {
   "cell_type": "markdown",
   "id": "3d8ab035",
   "metadata": {},
   "source": [
    "## self.set_start_balance(amount)\n",
    "Parameters:\n",
    " - __amount__: The amount to set as start balance. (Sets the USD balance only at the moment)\n",
    " \n",
    "Sets the initial balance of the USD wallet\n",
    " - __Test/Validation Mode__: Sets the simulated wallet balance value\n",
    " - __Production Mode__: Not used\n",
    " "
   ]
  },
  {
   "cell_type": "markdown",
   "id": "26b99940",
   "metadata": {},
   "source": [
    "## set_initial_balance_base_qoute_ratio(ratio)\n",
    "Parameters:\n",
    " - __ratio__: The ratio you want to be stored in quote currency. For example if start balance is set to 200 USD, and the ratio is 0.5, the initial BTC amount will be 100USD worth in BTC using the very first price available during the simulation.\n",
    " \n",
    "Sets the base/quote currency ratio. For example if start balance is set to 200 USD, and the ratio is 0.5, the initial BTC amount will be 100USD worth in BTC using the very first price available during the simulation.\n",
    " - __Test/Validation Mode__: Sets, the simulated balance ratio\n",
    " - __Production Mode__: Not used"
   ]
  },
  {
   "cell_type": "markdown",
   "id": "d65b24a3",
   "metadata": {},
   "source": [
    "## set_test_data_interval(test_data_location, start_time, end_time)\n",
    "Parameters:\n",
    " - __test_data_location__: File path to the test data set\n",
    " - __start_time__: start date time, the data set should be loaded from\n",
    " - __end_time__: the date time where the simulation shall stop reading the data\n",
    " \n",
    "Initializes the test data set, from an existing data set file.\n",
    " - __Test/Validation Mode__: Sets the initial values of the simulation, reads the data set from file withing the defined timeframe. \n",
    " - __Production Mode__: Not used"
   ]
  },
  {
   "cell_type": "markdown",
   "id": "d316c801",
   "metadata": {},
   "source": [
    "## plot_historical(market, start_date, end_date, resolution)\n",
    "Parameters:\n",
    " - __market__: The market we want to the the historical data of (defined by the base and quote currency)\n",
    " - __start_date__: start date time, the data set should be loaded from\n",
    " - __end_date__: the date time where the simulation shall stop reading the data\n",
    " - __resolution__: The resolution of the candles data in seconds. (Minimum value is 15 seconds)\n",
    " \n",
    "Plots the historical candle data for the selected market with selected resolution between the timeframe.\n",
    " - __Test/Validation Mode__: Simulation stores all candle data that has been processed druing the simulation and this function will plot it.\n",
    " - __Production Mode__: Plots the historical data queried from the live platform"
   ]
  },
  {
   "cell_type": "markdown",
   "id": "c57a294b",
   "metadata": {},
   "source": [
    "## get_order_history()\n",
    "Returns the order history\n",
    " - __Test/Validation Mode__: Returns the simulated order history, that has identical structure to the production history.\n",
    " - __Production Mode__: Returns the history queried from the platform."
   ]
  }
 ],
 "metadata": {
  "kernelspec": {
   "display_name": "Python 3 (ipykernel)",
   "language": "python",
   "name": "python3"
  },
  "language_info": {
   "codemirror_mode": {
    "name": "ipython",
    "version": 3
   },
   "file_extension": ".py",
   "mimetype": "text/x-python",
   "name": "python",
   "nbconvert_exporter": "python",
   "pygments_lexer": "ipython3",
   "version": "3.8.10"
  }
 },
 "nbformat": 4,
 "nbformat_minor": 5
}
